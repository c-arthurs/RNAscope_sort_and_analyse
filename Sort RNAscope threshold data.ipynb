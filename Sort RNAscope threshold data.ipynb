{
 "cells": [
  {
   "cell_type": "code",
   "execution_count": null,
   "metadata": {},
   "outputs": [],
   "source": [
    "import pandas as pd\n",
    "import numpy as np\n",
    "from natsort import natsorted\n",
    "import os"
   ]
  },
  {
   "cell_type": "code",
   "execution_count": null,
   "metadata": {},
   "outputs": [],
   "source": [
    "path = \"/Volumes/My Passport/MS_RE_ANALYSIS/RNAscope/clean_RNA_results/ms1_ctn_fosl.csv\"\n",
    "\n",
    "def concat3rdrow(df):\n",
    "    purple = df.iloc[0::3].reset_index()\n",
    "    names = [str(col) for col in purple.columns]\n",
    "    n_appended = [x if x in names[:4] else x+ \"_purple\" for x in names]\n",
    "    purple.columns = n_appended\n",
    "    \n",
    "    brown = df.iloc[1::3].reset_index().iloc[:, -5:].add_suffix('_brown')\n",
    "    tissue = df.iloc[2::3].reset_index().iloc[:, -5:].add_suffix('_tissue')\n",
    "    df1 = purple.join(brown).join(tissue)\n",
    "    return df1\n",
    "\n",
    "\n",
    "\n",
    "df = pd.read_csv(path)\n",
    "df1 = concat3rdrow(df)\n"
   ]
  },
  {
   "cell_type": "code",
   "execution_count": null,
   "metadata": {},
   "outputs": [],
   "source": [
    "df1 = concat3rdrow(df)\n",
    "df1['Label'] = df1['Label'].map(lambda x: x.replace('-1',\"\"))"
   ]
  },
  {
   "cell_type": "code",
   "execution_count": null,
   "metadata": {},
   "outputs": [],
   "source": [
    "def sortnames(df):\n",
    "    # list of strs with _A1.png _A2.png and return sorted list\n",
    "    df = pd.DataFrame(files).apply(lambda x: x.str[::-1])\n",
    "    df = df[0].str.split('_', 1, expand=True)\n",
    "    df = df.apply(lambda x: x.str[::-1])\n",
    "    df[\"letters\"] = [a[0] for a in df[0]]\n",
    "    df[\"numbers\"] = [int(a[1:-4]) for a in df[0]]\n",
    "    df = df.sort_values(by=['letters', 'numbers'])\n",
    "    df['_'] = [\"_\" for i in range(len(df[0]))]\n",
    "    df['sortednames'] = df[1] + df['_'] + df[0]\n",
    "    return df['sortednames'].tolist()\n",
    "\n",
    "sortnames(df1[])"
   ]
  },
  {
   "cell_type": "code",
   "execution_count": null,
   "metadata": {},
   "outputs": [],
   "source": [
    "df1[df1.columns[2]] = df1[df1.columns[2]].apply(lambda x: x[::-1])"
   ]
  },
  {
   "cell_type": "code",
   "execution_count": null,
   "metadata": {},
   "outputs": [],
   "source": [
    "concat3rdrow(df)"
   ]
  },
  {
   "cell_type": "code",
   "execution_count": null,
   "metadata": {},
   "outputs": [],
   "source": [
    "df1 = concat3rdrow(df)\n",
    "\n",
    "def sort_ascending(df1):\n",
    "    df1['Label'] = df1['Label'].map(lambda x: x.replace('-1',\"\"))\n",
    "    df1[df1.columns[2]] = df1[df1.columns[2]].apply(lambda x: x[::-1])\n",
    "    df3 = df1['Label'].str.split('_', 1, expand=True)\n",
    "    df3 = df3.apply(lambda x: x.str[::-1])\n",
    "    df3[\"letters\"] = [a[0] for a in df3[0]]\n",
    "    df3[\"numbers\"] = [int(a[1:-4]) for a in df3[0]]\n",
    "    df = pd.concat([df1, df3], axis=1, sort=False)\n",
    "    df = df.sort_values(by=['letters', 'numbers'])\n",
    "    df['_'] = [\"_\" for i in range(len(df[0]))]\n",
    "    df['sortednames'] = df[1] + df['_'] + df[0]\n",
    "    return df\n",
    "\n",
    "df1 = sort_ascending(df1)\n",
    "df1[df1['sortednames'].str.contains('MS1')].to_csv('/users/callum/Desktop/MS1_PPIB.csv')\n",
    "df1[df1['sortednames'].str.contains('MS2')].to_csv('/users/callum/Desktop/MS2_PPIB.csv')"
   ]
  },
  {
   "cell_type": "code",
   "execution_count": null,
   "metadata": {},
   "outputs": [],
   "source": [
    "s = \"MS1_PPIB1_(100428; 38906)_D4-1.png\"\n",
    "\n",
    "s.replace('-1',\"\")"
   ]
  },
  {
   "cell_type": "code",
   "execution_count": null,
   "metadata": {},
   "outputs": [],
   "source": [
    "\"\"\"\n",
    "Sort data from /Users/callum/callum/imageJ_macros/thresholding_macros/RNAscope.ijm\n",
    "\"\"\"\n",
    "\n",
    "\n",
    "path = \"/Volumes/My Passport/MS_RE_ANALYSIS/RNAscope/PPIB_POL2/MS_PPIB_Results.csv\"\n",
    "\n",
    "def concat3rdrow(df):\n",
    "    purple = df.iloc[0::3].reset_index()\n",
    "    names = [str(col) for col in purple.columns]\n",
    "    n_appended = [x if x in names[:4] else x+ \"_purple\" for x in names]\n",
    "    purple.columns = n_appended\n",
    "    \n",
    "    brown = df.iloc[1::3].reset_index().iloc[:, -5:].add_suffix('_brown')\n",
    "    tissue = df.iloc[2::3].reset_index().iloc[:, -5:].add_suffix('_tissue')\n",
    "    df1 = purple.join(brown).join(tissue)\n",
    "    return df1\n",
    "\n",
    "def sort(df):\n",
    "    df[\"col1\"] = [a[0] for a in df1[\"Core\"]]\n",
    "    df[\"col2\"] = [int(a[1:]) for a in df[\"Core\"]]\n",
    "    df = df.sort_values(by=['col1', 'col2'])\n",
    "    return df\n",
    "\n",
    "\n",
    "df = pd.read_csv(path)\n",
    "df1 = concat3rdrow(df)\n",
    "df1 = sort(df1)\n",
    "# df1.to_excel(os.path.split(path)[0] + os.sep + f\"PPIB_sorted_RNASCOPE_DATA.xlsx\")\n",
    "# print(\"saved \",f\"sorted_RNASCOPE_DATA.xlsx\")\n"
   ]
  },
  {
   "cell_type": "code",
   "execution_count": null,
   "metadata": {},
   "outputs": [],
   "source": [
    "a = df.iloc[0::3].reset_index()\n",
    "names = [str(col) for col in a.columns]\n",
    "\n",
    "names = []"
   ]
  },
  {
   "cell_type": "code",
   "execution_count": null,
   "metadata": {},
   "outputs": [],
   "source": [
    "[x if x in names[:4] else x+ \"_purple\" for x in names]"
   ]
  },
  {
   "cell_type": "code",
   "execution_count": null,
   "metadata": {},
   "outputs": [],
   "source": [
    "a = \"A1\"\n",
    "a[0]\n",
    "\n",
    "df1[\"col1\"] = [a[0] for a in df1[\"Core_purple\"]]\n",
    "df1[\"col2\"] = [a[1:] for a in df1[\"Core_purple\"]]\n",
    "df1 = df1.sort_values(by=['col2', 'col1'])\n",
    "#df1 = df1.sort_values(by=['col1'])\n",
    "\n",
    "\n",
    "df1"
   ]
  },
  {
   "cell_type": "code",
   "execution_count": null,
   "metadata": {},
   "outputs": [],
   "source": [
    "print(os.path.split(path)[0] + f\"1_sorted_RNASCOPE_DATA.xlsx\")"
   ]
  }
 ],
 "metadata": {
  "kernelspec": {
   "display_name": "Python (core)",
   "language": "python",
   "name": "core"
  },
  "language_info": {
   "codemirror_mode": {
    "name": "ipython",
    "version": 3
   },
   "file_extension": ".py",
   "mimetype": "text/x-python",
   "name": "python",
   "nbconvert_exporter": "python",
   "pygments_lexer": "ipython3",
   "version": "3.9.7"
  }
 },
 "nbformat": 4,
 "nbformat_minor": 2
}
