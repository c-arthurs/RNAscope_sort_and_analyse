{
 "cells": [
  {
   "cell_type": "code",
   "execution_count": 2,
   "metadata": {},
   "outputs": [],
   "source": [
    "import pandas as pd\n",
    "import numpy as np\n",
    "from natsort import natsorted\n",
    "import os"
   ]
  },
  {
   "cell_type": "code",
   "execution_count": 13,
   "metadata": {},
   "outputs": [],
   "source": [
    "# used for analysis of ppib pol 2 MS data \n",
    "path = \"/Volumes/My Passport/MS_RE_ANALYSIS/RNAscope/clean_RNA_results/ms1_ctn_fosl.csv\"\n",
    "\n",
    "def concat3rdrow(df):\n",
    "    purple = df.iloc[0::3].reset_index()\n",
    "    names = [str(col) for col in purple.columns]\n",
    "    n_appended = [x if x in names[:4] else x+ \"_purple\" for x in names]\n",
    "    purple.columns = n_appended\n",
    "    brown = df.iloc[1::3].reset_index().iloc[:, -5:].add_suffix('_brown')\n",
    "    tissue = df.iloc[2::3].reset_index().iloc[:, -5:].add_suffix('_tissue')\n",
    "    df1 = purple.join(brown).join(tissue)\n",
    "    return df1\n",
    "\n",
    "def sort_ascending(df1):\n",
    "    df1['Label'] = df1['Label'].map(lambda x: x.replace('-1',\"\"))\n",
    "    df1[df1.columns[2]] = df1[df1.columns[2]].apply(lambda x: x[::-1])\n",
    "    df3 = df1['Label'].str.split('_', 1, expand=True)\n",
    "    df3 = df3.apply(lambda x: x.str[::-1])\n",
    "    df3[\"letters\"] = [a[0] for a in df3[0]]\n",
    "    df3[\"numbers\"] = [int(a[1:-4]) for a in df3[0]]\n",
    "    df = pd.concat([df1, df3], axis=1, sort=False)\n",
    "    df = df.sort_values(by=['letters', 'numbers'])\n",
    "    df['_'] = [\"_\" for i in range(len(df[0]))]\n",
    "    df['sortednames'] = df[1] + df['_'] + df[0]\n",
    "    df['core'] = df['letters']+df['numbers'].astype(str)\n",
    "    return df\n",
    "\n",
    "\n",
    "df = pd.read_csv(path)\n",
    "df1 = concat3rdrow(df)\n",
    "df1 = sort_ascending(df1)\n",
    "# df1[df1['sortednames'].str.contains('MS1')].to_csv(\"/Users/callum/Desktop/MS_RNASCOPE/ANALYSIS_FINAL/MS1_PPIB.csv\")\n",
    "# df1[df1['sortednames'].str.contains('MS2')].to_csv(\"/Users/callum/Desktop/MS_RNASCOPE/ANALYSIS_FINAL/MS2_PPIB.csv\")\n",
    "\n"
   ]
  },
  {
   "cell_type": "code",
   "execution_count": 49,
   "metadata": {},
   "outputs": [
    {
     "name": "stdout",
     "output_type": "stream",
     "text": [
      "108 Cancer samples\t2 Normal samples\n",
      "saving ammended results to /Users/callum/Desktop/MS_RNASCOPE/ANALYSIS_FINAL/MS_PPIB_selectedCores.xlsx\n"
     ]
    }
   ],
   "source": [
    "# Select a subset of cores for \n",
    "\n",
    "selected_cores_MS2 = ['B4', 'B6', 'B11', 'C3', 'C4', 'C6', 'C11', 'D3', 'D4', 'D5', 'D6', 'D11', 'F1', 'F2',\n",
    "                      'F4', 'F5', 'F6', 'F7', 'G1', 'G2', 'G3', 'G4', 'G7', 'G10', 'H1', 'H2', 'H3', 'H4', 'H6',\n",
    "                      'H7', 'H8', 'H9', 'H9']\n",
    "selected_cores_MS1 = ['A6', 'B5', 'B6', 'B7', 'B8', 'B10', 'B12', 'B13', 'B15', 'C3', 'C5', 'C6', 'C7', 'C8',\n",
    "                      'C9', 'C12', 'C13', 'C15', 'D6', 'D7', 'D8', 'D9', 'D10', 'D11', 'D12', 'E1', 'E6', 'F1',\n",
    "                      'F2', 'F4', 'F5', 'F7', 'F9', 'F10', 'F11', 'F13', 'G2', 'G4', 'G5', 'G6', 'G7', 'G9',\n",
    "                      'G10', 'G11', 'G13', 'G15', 'H2', 'H3', 'H4', 'H5', 'H6', 'H7', 'H9', 'H10', 'H15']\n",
    "\n",
    "\n",
    "ms1 = pd.read_csv(\"/Users/callum/Desktop/MS_RNASCOPE/ANALYSIS_FINAL/MS1_PPIB.csv\")\n",
    "keep_ms1 = ms1[ms1['core'].isin(selected_cores_MS1)]\n",
    "\n",
    "ms2 = pd.read_csv(\"/Users/callum/Desktop/MS_RNASCOPE/ANALYSIS_FINAL/MS2_PPIB.csv\")\n",
    "keep_ms2 = ms2[ms2['core'].isin(selected_cores_MS2)]\n",
    "\n",
    "frames = [keep_ms1, keep_ms2]\n",
    "ms12 = pd.concat(frames)\n",
    "\n",
    "out = \"/Users/callum/Desktop/MS_RNASCOPE/ANALYSIS_FINAL/MS_PPIB_selectedCores.xlsx\"\n",
    "print(f\"{len(selected_cores_MS1)+len(selected_cores_MS1)-2} Cancer samples\\t{2} Normal samples\")\n",
    "ms12.to_excel(out)\n",
    "print(f'saving ammended results to {out}')"
   ]
  },
  {
   "cell_type": "code",
   "execution_count": null,
   "metadata": {},
   "outputs": [],
   "source": [
    "frames = [ms1, ms2]\n",
    "\n",
    "ms12 = pd.concat(frames)\n",
    "ms12.to_excel(out)"
   ]
  },
  {
   "cell_type": "code",
   "execution_count": 20,
   "metadata": {},
   "outputs": [
    {
     "name": "stdout",
     "output_type": "stream",
     "text": [
      "[['\\ufeffA6', 'B5', 'B6', 'B7', 'B8', 'B10', 'B12', 'B13', 'B15', 'C3', 'C5', 'C6', 'C7', 'C8', 'C9', 'C12', 'C13', 'C15', 'D6', 'D7', 'D8', 'D9', 'D10', 'D11', 'D12', 'E1', 'E6', 'F1', 'F2', 'F7', 'F9', 'F10', 'F11', 'F13', 'G2', 'G4', 'G5', 'G6', 'G7', 'G9', 'G10', 'G11', 'G13', 'G15', 'H2', 'H3', 'H4', 'H5', 'H6', 'H7', 'H9', 'H10', 'H15']]\n"
     ]
    }
   ],
   "source": [
    "# quickest way to get positive cores as a list\n",
    "\n",
    "import csv\n",
    "\n",
    "with open('/Users/callum/Desktop/MS_RNASCOPE/ANALYSIS_FINAL/MS2_CORES_TO_KEEP.csv', newline='') as f:\n",
    "    reader = csv.reader(f)\n",
    "    your_list = list(reader)\n",
    "\n",
    "print(your_list)"
   ]
  },
  {
   "cell_type": "markdown",
   "metadata": {},
   "source": [
    "# choose only selected cores for analysis"
   ]
  },
  {
   "cell_type": "code",
   "execution_count": null,
   "metadata": {
    "scrolled": true
   },
   "outputs": [],
   "source": [
    "file = \"/Volumes/My Passport/MS_RE_ANALYSIS/RNAscope/clean_RNA_results/2_sorted_RNASCOPE_DATA.xlsx\"\n",
    "\n",
    "df = pd.read_excel(file)"
   ]
  },
  {
   "cell_type": "code",
   "execution_count": 27,
   "metadata": {},
   "outputs": [],
   "source": [
    "# All Run and \n",
    "\n",
    "path = \"/Volumes/My Passport/MS_RE_ANALYSIS/RNAscope/clean_RNA_results/\"\n",
    "name = \"ctn_pygo\"\n",
    "\n",
    "ms1file = path+\"ms1_\"+name+\".xlsx\"\n",
    "\n",
    "selected_cores_MS1 = ['A6', 'B5', 'B6', 'B7', 'B8', 'B10', 'B12', 'B13', 'B15', 'C3', 'C5', 'C6', 'C7', 'C8',\n",
    "                      'C9', 'C12', 'C13', 'C15', 'D6', 'D7', 'D8', 'D9', 'D10', 'D11', 'D12', 'E1', 'E6', 'F1',\n",
    "                      'F2', 'F4', 'F5', 'F7', 'F9', 'F10', 'F11', 'F13', 'G2', 'G4', 'G5', 'G6', 'G7', 'G9',\n",
    "                      'G10', 'G11', 'G13', 'G15', 'H2', 'H3', 'H4', 'H5', 'H6', 'H7', 'H9', 'H10', 'H15']\n",
    "\n",
    "\n",
    "ms1 = pd.read_excel(ms1file)\n",
    "keep_ms1 = ms1[ms1['Core'].isin(selected_cores_MS1)]\n",
    "\n",
    "\n",
    "\n",
    "selected_cores_MS2 = ['B4', 'B6', 'B11', 'C3', 'C4', 'C6', 'C11', 'D3', 'D4', 'D5', 'D6', 'D11', 'F1', 'F2',\n",
    "                      'F4', 'F5', 'F6', 'F7', 'G1', 'G2', 'G3', 'G4', 'G7', 'G10', 'H1', 'H2', 'H3', 'H4', 'H6',\n",
    "                      'H7', 'H8', 'H9', 'H9']\n",
    "\n",
    "\n",
    "\n",
    "ms2file = path+\"ms2_\"+name+\".xlsx\"\n",
    "ms2 = pd.read_excel(ms2file)\n",
    "keep_ms2 = ms2[ms2['Core'].isin(selected_cores_MS2)]\n",
    "\n",
    "keep_ms2.to_excel(path+name+\"MS2_pass_ppib.xlsx\")\n",
    "keep_ms1.to_excel(path+name+\"MS1_pass_ppib.xlsx\")"
   ]
  },
  {
   "cell_type": "code",
   "execution_count": null,
   "metadata": {},
   "outputs": [],
   "source": [
    "pd.read_csv('ml-100k/u.item', sep='|', names=m_cols , encoding='latin-1')\n"
   ]
  }
 ],
 "metadata": {
  "kernelspec": {
   "display_name": "Python (core)",
   "language": "python",
   "name": "core"
  },
  "language_info": {
   "codemirror_mode": {
    "name": "ipython",
    "version": 3
   },
   "file_extension": ".py",
   "mimetype": "text/x-python",
   "name": "python",
   "nbconvert_exporter": "python",
   "pygments_lexer": "ipython3",
   "version": "3.9.7"
  }
 },
 "nbformat": 4,
 "nbformat_minor": 2
}
